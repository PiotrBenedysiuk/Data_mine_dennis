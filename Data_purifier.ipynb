{
 "cells": [
  {
   "cell_type": "code",
   "execution_count": 1,
   "metadata": {},
   "outputs": [],
   "source": [
    "import re #more like import the fukken antichrist"
   ]
  },
  {
   "cell_type": "code",
   "execution_count": 43,
   "metadata": {},
   "outputs": [],
   "source": [
    "def History_to_data(name, path_to_history, save_path = \"clean.txt\"):\n",
    "    \"\"\"This will create a txt file with only the times and dates that dennis \n",
    "    fucking send you a 9gag link.\n",
    "    name: str, name of dennis in your whatsapp history\n",
    "    path_to_history: str, path to whatsapp.txt history file\n",
    "    save_path: str, will save the clean history at this path. Default is clean.txt\"\"\"\n",
    "    regular_expression = \"(\\d\\d/\\d\\d/\\d{4}\\W+\\d\\d:\\d\\d)[\\W\\s]+\" + name +\":[^\\n]+9gag\\.com[^\\n]+\\n\"\n",
    "                          \n",
    "    history = open(path_to_history, 'r', encoding='utf-8')\n",
    "    text = history.read()\n",
    "    \n",
    "    gag_history = re.findall(regular_expression, text)\n",
    "    \n",
    "    history.close()\n",
    "    \n",
    "    f = open(save_path, 'w')\n",
    "    for line in gag_history:\n",
    "        f.write(line[0] + '\\n')\n",
    "    f.close()\n",
    "    \n",
    "    return"
   ]
  },
  {
   "cell_type": "code",
   "execution_count": 44,
   "metadata": {},
   "outputs": [],
   "source": [
    "History_to_data(\"dennis\", \"1.txt\")"
   ]
  },
  {
   "cell_type": "code",
   "execution_count": null,
   "metadata": {},
   "outputs": [],
   "source": []
  }
 ],
 "metadata": {
  "kernelspec": {
   "display_name": "Python 3",
   "language": "python",
   "name": "python3"
  },
  "language_info": {
   "codemirror_mode": {
    "name": "ipython",
    "version": 3
   },
   "file_extension": ".py",
   "mimetype": "text/x-python",
   "name": "python",
   "nbconvert_exporter": "python",
   "pygments_lexer": "ipython3",
   "version": "3.7.1"
  }
 },
 "nbformat": 4,
 "nbformat_minor": 2
}
