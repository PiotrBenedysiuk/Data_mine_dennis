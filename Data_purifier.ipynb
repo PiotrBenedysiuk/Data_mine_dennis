{
 "cells": [
  {
   "cell_type": "code",
   "execution_count": 1,
   "metadata": {},
   "outputs": [],
   "source": [
    "import re #more like import the fukken antichrist\n",
    "\n",
    "keyword_list = ['kurwa', 'ja', '9gag', 'vo', 'bitch', 'kom dan', 'jonko', 'broer']"
   ]
  },
  {
   "cell_type": "code",
   "execution_count": 2,
   "metadata": {},
   "outputs": [],
   "source": [
    "def History_to_data(name, path_to_history, group_name = \"private\"):\n",
    "    \"\"\"This will create a txt file with only the times and dates that dennis \n",
    "    fucking send you a 9gag link.\n",
    "    name: str, name of dennis in your whatsapp history\n",
    "    path_to_history: str, path to whatsapp.txt history file\n",
    "    save_path: str, will save the clean history at this path. Default is clean.txt\n",
    "    group_name: str, specify the group name. If the data is not from a group simply leave open.\"\"\"                     \n",
    "    history = open(path_to_history, 'r', encoding='utf-8')\n",
    "    text = history.read()\n",
    "    f = open(\"saved_history.txt\", 'w')\n",
    "    \n",
    "    date_regex = \"(\\d{2}[\\W\\D]\\d{2}[\\W\\D](?:\\d{4}|\\d{2}))[\\W\\D]+(\\d{2}[\\W\\D]\\d{2})[\\W\\s]+\"\n",
    "    for keyword in keyword_list: #various keyword check\n",
    "        reg_ex = (date_regex+ name +\":[^\\n]+(\" + keyword +\n",
    "                  \")[^\\n]+\\n\"+date_regex +\"([^:]+):\")\n",
    "        filtered_history = re.findall(reg_ex, text)\n",
    "\n",
    "        for line in filtered_history:\n",
    "            f.write(','.join(line) + ','+ group_name + '\\n')\n",
    "            \n",
    "    #check if 9gag got posted from android\n",
    "    reg_ex =  (date_regex + name +\n",
    "               \":[^\\n]+9gag.com[^\\n](android)[^\\n]+\\n\" + date_regex +\"([^:]+):\")\n",
    "    \n",
    "    filtered_history = re.findall(reg_ex, text)\n",
    "    \n",
    "    for line in filtered_history:\n",
    "        f.write(','.join(line) + ',' + group_name + '\\n')\n",
    "    f.close()\n",
    "    \n",
    "    history.close()\n",
    "    \n",
    "    return"
   ]
  },
  {
   "cell_type": "code",
   "execution_count": 3,
   "metadata": {},
   "outputs": [],
   "source": [
    "History_to_data(\"dennis\", '1.txt')"
   ]
  },
  {
   "cell_type": "code",
   "execution_count": null,
   "metadata": {},
   "outputs": [],
   "source": []
  }
 ],
 "metadata": {
  "kernelspec": {
   "display_name": "Python 3",
   "language": "python",
   "name": "python3"
  },
  "language_info": {
   "codemirror_mode": {
    "name": "ipython",
    "version": 3
   },
   "file_extension": ".py",
   "mimetype": "text/x-python",
   "name": "python",
   "nbconvert_exporter": "python",
   "pygments_lexer": "ipython3",
   "version": "3.7.1"
  }
 },
 "nbformat": 4,
 "nbformat_minor": 2
}
